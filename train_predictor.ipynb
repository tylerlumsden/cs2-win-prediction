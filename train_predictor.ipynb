{
 "cells": [
  {
   "cell_type": "markdown",
   "metadata": {},
   "source": [
    "Load all pre-parsed demos into a pandas dataframe (demos are pruned to each 1000th tick to preserve I.I.D)"
   ]
  },
  {
   "cell_type": "code",
   "execution_count": 2,
   "metadata": {},
   "outputs": [
    {
     "name": "stdout",
     "output_type": "stream",
     "text": [
      "434 CSV files loaded\n"
     ]
    }
   ],
   "source": [
    "import os\n",
    "import pandas as pd\n",
    "\n",
    "final = pd.DataFrame.empty\n",
    "count = 0\n",
    "for filename in os.listdir(\"parse/csv\"):\n",
    "    f = os.path.join(\"parse/csv\", filename)\n",
    "\n",
    "    if os.path.isfile(f):     \n",
    "        if final is pd.DataFrame.empty:\n",
    "            final = pd.read_csv(f)\n",
    "            final = final.iloc[::1000]\n",
    "        else:\n",
    "            data = pd.read_csv(f)\n",
    "            data = data.iloc[::1000]\n",
    "            final = pd.concat([final, data], axis=0)\n",
    "        count = count + 1\n",
    "\n",
    "final = final.drop_duplicates()\n",
    "print(count, \"CSV files loaded\")"
   ]
  },
  {
   "cell_type": "markdown",
   "metadata": {},
   "source": [
    "Split our data for training/testing"
   ]
  },
  {
   "cell_type": "code",
   "execution_count": 3,
   "metadata": {},
   "outputs": [],
   "source": [
    "from sklearn.model_selection import train_test_split, cross_val_score\n",
    "\n",
    "x, y = final.drop(columns=['Winner', 'Round', 'Tick']), final['Winner']\n",
    "\n",
    "x_train, x_test, y_train, y_test = train_test_split(x, y, test_size=0.2)"
   ]
  },
  {
   "cell_type": "markdown",
   "metadata": {},
   "source": [
    "Train a RandomForest classifier on our data"
   ]
  },
  {
   "cell_type": "code",
   "execution_count": null,
   "metadata": {},
   "outputs": [
    {
     "data": {
      "text/plain": [
       "array([0.70806242, 0.71391417, 0.70546164, 0.71781534, 0.6846554 ,\n",
       "       0.73324658, 0.70527001, 0.70592062])"
      ]
     },
     "execution_count": 4,
     "metadata": {},
     "output_type": "execute_result"
    }
   ],
   "source": [
    "from sklearn.ensemble import RandomForestClassifier\n",
    "\n",
    "forest = RandomForestClassifier(n_jobs=4, n_estimators=500)\n",
    "forest.fit(x_train, y_train)\n",
    "\n",
    "print(forest.score(x_test, y_test))\n",
    "print(cross_val_score(forest, x_test, y_test, cv=8))"
   ]
  }
 ],
 "metadata": {
  "kernelspec": {
   "display_name": "Python 3",
   "language": "python",
   "name": "python3"
  },
  "language_info": {
   "codemirror_mode": {
    "name": "ipython",
    "version": 3
   },
   "file_extension": ".py",
   "mimetype": "text/x-python",
   "name": "python",
   "nbconvert_exporter": "python",
   "pygments_lexer": "ipython3",
   "version": "3.12.7"
  }
 },
 "nbformat": 4,
 "nbformat_minor": 2
}
